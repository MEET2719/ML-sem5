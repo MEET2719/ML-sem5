{
  "nbformat": 4,
  "nbformat_minor": 0,
  "metadata": {
    "colab": {
      "name": "ML_Lab2.ipynb",
      "provenance": [],
      "collapsed_sections": [],
      "include_colab_link": true
    },
    "kernelspec": {
      "name": "python3",
      "display_name": "Python 3"
    }
  },
  "cells": [
    {
      "cell_type": "markdown",
      "metadata": {
        "id": "view-in-github",
        "colab_type": "text"
      },
      "source": [
        "<a href=\"https://colab.research.google.com/github/meet-2719/ML-sem5/blob/master/ML_Lab2.ipynb\" target=\"_parent\"><img src=\"https://colab.research.google.com/assets/colab-badge.svg\" alt=\"Open In Colab\"/></a>"
      ]
    },
    {
      "cell_type": "code",
      "metadata": {
        "id": "MvcnCOhq4_yO",
        "colab_type": "code",
        "colab": {}
      },
      "source": [
        "import numpy as np\n",
        "import matplotlib.pyplot as plt\n",
        "from mpl_toolkits.mplot3d import Axes3D\n",
        "import pandas as pd"
      ],
      "execution_count": 0,
      "outputs": []
    },
    {
      "cell_type": "code",
      "metadata": {
        "id": "LUf7xCiC56nD",
        "colab_type": "code",
        "colab": {}
      },
      "source": [
        "#Question 1.1\n",
        "#l_theta = theta**2\n",
        "init_theta = np.random.rand();\n"
      ],
      "execution_count": 0,
      "outputs": []
    },
    {
      "cell_type": "code",
      "metadata": {
        "id": "mxPP8Uy-50UF",
        "colab_type": "code",
        "colab": {}
      },
      "source": [
        "def gradientdescent (theta, alpha, iterations):\n",
        "    for i in range(iterations):\n",
        "      theta = theta - alpha*(2*theta)\n",
        "    return theta\n",
        "    "
      ],
      "execution_count": 0,
      "outputs": []
    },
    {
      "cell_type": "code",
      "metadata": {
        "id": "BAckJsOV8-ca",
        "colab_type": "code",
        "outputId": "39a60690-6757-4269-f67c-978d4b19ec37",
        "colab": {
          "base_uri": "https://localhost:8080/",
          "height": 34
        }
      },
      "source": [
        "thet = gradientdescent(init_theta, 0.01,10000)\n",
        "print(thet)"
      ],
      "execution_count": 0,
      "outputs": [
        {
          "output_type": "stream",
          "text": [
            "8.702765699400488e-89\n"
          ],
          "name": "stdout"
        }
      ]
    },
    {
      "cell_type": "code",
      "metadata": {
        "id": "PMCvNFU2Anym",
        "colab_type": "code",
        "outputId": "13bd5247-e996-48f0-e841-718790bb5ab9",
        "colab": {
          "base_uri": "https://localhost:8080/",
          "height": 34
        }
      },
      "source": [
        "thet = gradientdescent(init_theta, 0.1,10000)\n",
        "print(thet)"
      ],
      "execution_count": 0,
      "outputs": [
        {
          "output_type": "stream",
          "text": [
            "1e-323\n"
          ],
          "name": "stdout"
        }
      ]
    },
    {
      "cell_type": "code",
      "metadata": {
        "id": "-GsFHN6t_qnE",
        "colab_type": "code",
        "colab": {}
      },
      "source": [
        "#Question 1.2\n",
        "#l_theta = theta**2\n",
        "theta1 = np.random.rand(2,1)\n",
        "\n"
      ],
      "execution_count": 0,
      "outputs": []
    },
    {
      "cell_type": "code",
      "metadata": {
        "id": "sOavPcrh_q4S",
        "colab_type": "code",
        "colab": {}
      },
      "source": [
        "def gradientdescent (theta, alpha, iterations):\n",
        "    for i in range(iterations):\n",
        "      theta = theta - alpha*(2*theta)\n",
        "    return theta"
      ],
      "execution_count": 0,
      "outputs": []
    },
    {
      "cell_type": "code",
      "metadata": {
        "id": "CIksM_CM_q-a",
        "colab_type": "code",
        "outputId": "f2a85016-bd6b-4c79-a404-8feb027477a4",
        "colab": {
          "base_uri": "https://localhost:8080/",
          "height": 52
        }
      },
      "source": [
        "thet = gradientdescent(theta1, 0.01,10000)\n",
        "print(thet)"
      ],
      "execution_count": 0,
      "outputs": [
        {
          "output_type": "stream",
          "text": [
            "[[1.66563068e-88]\n",
            " [1.22891012e-88]]\n"
          ],
          "name": "stdout"
        }
      ]
    },
    {
      "cell_type": "code",
      "metadata": {
        "id": "LQ6SdeA9A9py",
        "colab_type": "code",
        "outputId": "6aa4d97d-8fea-4400-ffbe-043ae823c921",
        "colab": {
          "base_uri": "https://localhost:8080/",
          "height": 52
        }
      },
      "source": [
        "thet = gradientdescent(theta1, 0.1,10000)\n",
        "print(thet)"
      ],
      "execution_count": 0,
      "outputs": [
        {
          "output_type": "stream",
          "text": [
            "[[1.e-323]\n",
            " [1.e-323]]\n"
          ],
          "name": "stdout"
        }
      ]
    },
    {
      "cell_type": "code",
      "metadata": {
        "id": "InA08Tg__q71",
        "colab_type": "code",
        "colab": {}
      },
      "source": [
        "#Question 1.3\n",
        "#l_theta = (theta-1)**2\n",
        "init_theta = np.random.rand();"
      ],
      "execution_count": 0,
      "outputs": []
    },
    {
      "cell_type": "code",
      "metadata": {
        "id": "-L_fGaMvBoUq",
        "colab_type": "code",
        "colab": {}
      },
      "source": [
        "def gradientdescent (theta, alpha, iterations):\n",
        "    for i in range(iterations):\n",
        "      theta = theta - alpha*(2*(theta-1))\n",
        "    return theta"
      ],
      "execution_count": 0,
      "outputs": []
    },
    {
      "cell_type": "code",
      "metadata": {
        "id": "Is77FPCkBpNt",
        "colab_type": "code",
        "outputId": "f89124b6-9334-42ac-cfb1-50a26d5e7563",
        "colab": {
          "base_uri": "https://localhost:8080/",
          "height": 34
        }
      },
      "source": [
        "thet = gradientdescent(init_theta, 0.01,10000)\n",
        "print(thet)"
      ],
      "execution_count": 0,
      "outputs": [
        {
          "output_type": "stream",
          "text": [
            "0.9999999999999973\n"
          ],
          "name": "stdout"
        }
      ]
    },
    {
      "cell_type": "code",
      "metadata": {
        "id": "EFvs9bj9Brmy",
        "colab_type": "code",
        "outputId": "b915b06e-1d36-4755-b754-f57bb01138f7",
        "colab": {
          "base_uri": "https://localhost:8080/",
          "height": 34
        }
      },
      "source": [
        "thet = gradientdescent(init_theta, 0.1,10000)\n",
        "print(thet)"
      ],
      "execution_count": 0,
      "outputs": [
        {
          "output_type": "stream",
          "text": [
            "0.9999999999999998\n"
          ],
          "name": "stdout"
        }
      ]
    },
    {
      "cell_type": "code",
      "metadata": {
        "id": "KRPvcvMwB8so",
        "colab_type": "code",
        "colab": {}
      },
      "source": [
        "#Question 1.4\n",
        "#l_theta = 2*(theta_1 - 1)**2 + 2*(theta_1 - 1)**2\n",
        "theta1 = np.random.rand(2,1)"
      ],
      "execution_count": 0,
      "outputs": []
    },
    {
      "cell_type": "code",
      "metadata": {
        "id": "kt_R2GGwB8x_",
        "colab_type": "code",
        "colab": {}
      },
      "source": [
        "def gradientdescent (theta, alpha, iterations):\n",
        "    for i in range(iterations):\n",
        "      theta = theta - alpha*(2*(theta-1))\n",
        "    return theta"
      ],
      "execution_count": 0,
      "outputs": []
    },
    {
      "cell_type": "code",
      "metadata": {
        "id": "LK4mOfXMB8nw",
        "colab_type": "code",
        "outputId": "adb8f1d5-68f6-48d8-d5c7-f0f98c4af5ac",
        "colab": {
          "base_uri": "https://localhost:8080/",
          "height": 52
        }
      },
      "source": [
        "thet = gradientdescent(theta1, 0.01,10000)\n",
        "print(thet)"
      ],
      "execution_count": 0,
      "outputs": [
        {
          "output_type": "stream",
          "text": [
            "[[1.]\n",
            " [1.]]\n"
          ],
          "name": "stdout"
        }
      ]
    },
    {
      "cell_type": "code",
      "metadata": {
        "id": "Lo5A982fB8if",
        "colab_type": "code",
        "outputId": "a2543a92-de68-4967-df49-a6377ce2c9bc",
        "colab": {
          "base_uri": "https://localhost:8080/",
          "height": 52
        }
      },
      "source": [
        "thet = gradientdescent(theta1, 0.1,10000)\n",
        "print(thet)"
      ],
      "execution_count": 0,
      "outputs": [
        {
          "output_type": "stream",
          "text": [
            "[[1.]\n",
            " [1.]]\n"
          ],
          "name": "stdout"
        }
      ]
    },
    {
      "cell_type": "code",
      "metadata": {
        "id": "XjmijAH0Cj3t",
        "colab_type": "code",
        "colab": {}
      },
      "source": [
        "#Question 1.5\n",
        "#l_theta = 2*(theta_1 - 1)**2 + 2*(theta_1 - 1)**2\n",
        "theta1 = np.random.rand(2,1)"
      ],
      "execution_count": 0,
      "outputs": []
    },
    {
      "cell_type": "code",
      "metadata": {
        "id": "U3Y07BexCj-d",
        "colab_type": "code",
        "outputId": "85742300-6e05-4ad4-eaa7-86a2fb064341",
        "colab": {
          "resources": {
            "http://localhost:8080/nbextensions/google.colab/files.js": {
              "data": "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",
              "ok": true,
              "headers": [
                [
                  "content-type",
                  "application/javascript"
                ]
              ],
              "status": 200,
              "status_text": "OK"
            }
          },
          "base_uri": "https://localhost:8080/",
          "height": 84
        }
      },
      "source": [
        "from google.colab import files\n",
        "uploaded = files.upload()"
      ],
      "execution_count": 0,
      "outputs": [
        {
          "output_type": "display_data",
          "data": {
            "text/html": [
              "\n",
              "     <input type=\"file\" id=\"files-e7f96fdb-408c-4314-83bf-0a69c4db1f19\" name=\"files[]\" multiple disabled />\n",
              "     <output id=\"result-e7f96fdb-408c-4314-83bf-0a69c4db1f19\">\n",
              "      Upload widget is only available when the cell has been executed in the\n",
              "      current browser session. Please rerun this cell to enable.\n",
              "      </output>\n",
              "      <script src=\"/nbextensions/google.colab/files.js\"></script> "
            ],
            "text/plain": [
              "<IPython.core.display.HTML object>"
            ]
          },
          "metadata": {
            "tags": []
          }
        },
        {
          "output_type": "stream",
          "text": [
            "Saving data for Problem1.csv to data for Problem1.csv\n"
          ],
          "name": "stdout"
        }
      ]
    },
    {
      "cell_type": "code",
      "metadata": {
        "id": "FAibnDLDCkMk",
        "colab_type": "code",
        "colab": {}
      },
      "source": [
        "import io\n",
        "df2 = pd.read_csv(io.BytesIO(uploaded['data for Problem1.csv']))"
      ],
      "execution_count": 0,
      "outputs": []
    },
    {
      "cell_type": "code",
      "metadata": {
        "id": "Mc6UyxzjCjxe",
        "colab_type": "code",
        "outputId": "54deb3c6-6195-444e-bed6-55dfc36bcd82",
        "colab": {
          "base_uri": "https://localhost:8080/",
          "height": 52
        }
      },
      "source": [
        "df2.head()\n",
        "x = df2['x']\n",
        "x = (x-np.mean(x))/np.std(x)\n",
        "y = df2['y']\n",
        "print(x.shape)\n",
        "print(y.shape)"
      ],
      "execution_count": 0,
      "outputs": [
        {
          "output_type": "stream",
          "text": [
            "(94,)\n",
            "(94,)\n"
          ],
          "name": "stdout"
        }
      ]
    },
    {
      "cell_type": "code",
      "metadata": {
        "id": "6I2X34h6Fz2K",
        "colab_type": "code",
        "outputId": "5d640b50-7493-4555-c475-434f49a91510",
        "colab": {
          "base_uri": "https://localhost:8080/",
          "height": 52
        }
      },
      "source": [
        "o = np.ones((x.shape[0],1))\n",
        "X = np.column_stack((o, x))\n",
        "y=y.values\n",
        "y = y.reshape((94, 1))\n",
        "print(X.shape)\n",
        "print(y.shape)"
      ],
      "execution_count": 0,
      "outputs": [
        {
          "output_type": "stream",
          "text": [
            "(94, 2)\n",
            "(94, 1)\n"
          ],
          "name": "stdout"
        }
      ]
    },
    {
      "cell_type": "code",
      "metadata": {
        "id": "UxTmKXV7Dcym",
        "colab_type": "code",
        "colab": {}
      },
      "source": [
        "theta1 = np.random.rand(2,1)\n",
        "m = X.shape[0]\n",
        "def gradientdescent (theta, alpha, iterations, X, y):\n",
        "    for i in range(iterations):\n",
        "      x1 = y - np.matmul(X,theta)\n",
        "      x2 = np.matmul(X.transpose(),x1)\n",
        "      theta = theta + (alpha/m)*x2\n",
        "    return theta"
      ],
      "execution_count": 0,
      "outputs": []
    },
    {
      "cell_type": "code",
      "metadata": {
        "id": "Z3Wu15LbH3yD",
        "colab_type": "code",
        "outputId": "7c180907-2212-4bc4-f7ec-5921d9cf9c9f",
        "colab": {
          "base_uri": "https://localhost:8080/",
          "height": 52
        }
      },
      "source": [
        "theta1 = np.random.rand(2,1)\n",
        "thet = gradientdescent(theta1, 0.01,10000, X, y)\n",
        "print(thet)"
      ],
      "execution_count": 0,
      "outputs": [
        {
          "output_type": "stream",
          "text": [
            "[[23.71808511]\n",
            " [-6.86699545]]\n"
          ],
          "name": "stdout"
        }
      ]
    },
    {
      "cell_type": "code",
      "metadata": {
        "id": "OTbMsUjAHHfh",
        "colab_type": "code",
        "colab": {}
      },
      "source": [
        "#Question 2\n",
        "theta1 = np.random.rand(2,1)\n",
        "def gradientdescent (theta, alpha, iterations, X, y):\n",
        "    for i in range(iterations):\n",
        "      #c = int (np.round(np.random.rand()*94-1))\n",
        "      c = np.random.randint(0,93)\n",
        "      var = X[c,:]\n",
        "      var = var.reshape(1,2)\n",
        "      x1 = y[c,:] - np.matmul(var,theta)\n",
        "      x2 = (var.transpose()*x1)\n",
        "      theta = theta + (alpha)*x2\n",
        "    return theta"
      ],
      "execution_count": 0,
      "outputs": []
    },
    {
      "cell_type": "code",
      "metadata": {
        "id": "vT0VtxnzOHlq",
        "colab_type": "code",
        "outputId": "6bcde1da-2931-4604-f68b-aa455c9f5943",
        "colab": {
          "base_uri": "https://localhost:8080/",
          "height": 52
        }
      },
      "source": [
        "theta1 = np.random.rand(2,1)\n",
        "m = X.shape[0]\n",
        "#print(theta1.shape)\n",
        "thet = gradientdescent(theta1, 0.1,10000, X, y)\n",
        "#print(thet.shape)\n",
        "print(thet)"
      ],
      "execution_count": 0,
      "outputs": [
        {
          "output_type": "stream",
          "text": [
            "[[25.30586734]\n",
            " [-7.96722715]]\n"
          ],
          "name": "stdout"
        }
      ]
    },
    {
      "cell_type": "code",
      "metadata": {
        "id": "Vumlnpk7Igmt",
        "colab_type": "code",
        "colab": {}
      },
      "source": [
        ""
      ],
      "execution_count": 0,
      "outputs": []
    },
    {
      "cell_type": "code",
      "metadata": {
        "id": "m5dPwjdZLV6-",
        "colab_type": "code",
        "colab": {}
      },
      "source": [
        "#Question 3a\n",
        "def cost(theta):\n",
        "    return theta ** 2;"
      ],
      "execution_count": 0,
      "outputs": []
    },
    {
      "cell_type": "code",
      "metadata": {
        "id": "CYjPLjTiLqgT",
        "colab_type": "code",
        "colab": {}
      },
      "source": [
        "def cost_derivative(theta):\n",
        "    t_d = np.matrix(np.zeros(theta.shape));\n",
        "    t_d[0] = 2 * theta;\n",
        "    return (t_d);"
      ],
      "execution_count": 0,
      "outputs": []
    },
    {
      "cell_type": "code",
      "metadata": {
        "id": "r64oIeh6LgFw",
        "colab_type": "code",
        "colab": {}
      },
      "source": [
        "def cost_double_derivative(theta):\n",
        "    t_d = np.matrix(np.zeros(theta.shape));\n",
        "    t_d[0] = 2;\n",
        "    return (t_d);"
      ],
      "execution_count": 0,
      "outputs": []
    },
    {
      "cell_type": "code",
      "metadata": {
        "id": "441DghWoL5nA",
        "colab_type": "code",
        "colab": {}
      },
      "source": [
        "def cost_alpha(alpha, theta_0): #The function to minimize alpha by Newton's Method - It is the cost function at theta_0 keeping alpha as variable\n",
        "    return cost(theta_0 - alpha * cost_derivative(theta_0));"
      ],
      "execution_count": 0,
      "outputs": []
    },
    {
      "cell_type": "code",
      "metadata": {
        "id": "_88LNa-2L5j9",
        "colab_type": "code",
        "colab": {}
      },
      "source": [
        "def cost_derivative_alpha(alpha, theta):\n",
        "    return -4 * (1 - 2 * alpha) * theta * theta;"
      ],
      "execution_count": 0,
      "outputs": []
    },
    {
      "cell_type": "code",
      "metadata": {
        "id": "rJ9s-JGJL5gw",
        "colab_type": "code",
        "colab": {}
      },
      "source": [
        "def cost_double_derivative_alpha(alpha, theta):\n",
        "    return 8 * theta * theta;"
      ],
      "execution_count": 0,
      "outputs": []
    },
    {
      "cell_type": "code",
      "metadata": {
        "id": "FR3vhxbfL5dY",
        "colab_type": "code",
        "outputId": "74fe5e77-028b-4194-84e0-de16212d59b1",
        "colab": {
          "base_uri": "https://localhost:8080/",
          "height": 312
        }
      },
      "source": [
        "theta_0 = np.matrix([10000]).T;\n",
        "theta =  theta_0;\n",
        "alpha = 10000000;\n",
        "error = 1;\n",
        "errorvec = np.array([ ]);\n",
        "while abs(error) > 0.0001 : \n",
        "    old_theta = theta;\n",
        "    theta = theta - alpha * cost_derivative(theta);\n",
        "    error = sum(old_theta - theta);\n",
        "    errorvec = np.append(errorvec, abs(error));\n",
        "    #Steepest\n",
        "    old_alpha = alpha;\n",
        "    alpha = alpha - cost_derivative_alpha(alpha, theta_0) / cost_double_derivative_alpha(alpha, theta_0);\n",
        "    #\n",
        "print(theta);\n",
        "plt.plot(errorvec);\n",
        "plt.xlabel('Iterations');\n",
        "plt.ylabel('Error');\n",
        "plt.title('GD Error');"
      ],
      "execution_count": 0,
      "outputs": [
        {
          "output_type": "stream",
          "text": [
            "[[0.]]\n"
          ],
          "name": "stdout"
        },
        {
          "output_type": "display_data",
          "data": {
            "image/png": "[encoded data removed]",
            "text/plain": [
              "<Figure size 432x288 with 1 Axes>"
            ]
          },
          "metadata": {
            "tags": []
          }
        }
      ]
    },
    {
      "cell_type": "code",
      "metadata": {
        "id": "BjKSSM3kNRa2",
        "colab_type": "code",
        "colab": {}
      },
      "source": [
        "#Question 3b\n",
        "def cost_derivative(theta):\n",
        "    t_d = np.matrix(np.zeros(theta.shape));\n",
        "    t_d[1] = 2 * theta[1];\n",
        "    t_d[0] = 2 * theta[0];\n",
        "    return (t_d);"
      ],
      "execution_count": 0,
      "outputs": []
    },
    {
      "cell_type": "code",
      "metadata": {
        "id": "CevWFc0HNRW2",
        "colab_type": "code",
        "colab": {}
      },
      "source": [
        "def der_alpha(theta, alp):\n",
        "    p = theta - alp * cost_derivative(theta);\n",
        "    #print(p);\n",
        "    J = np.sum(np.square(p));\n",
        "    #print(J);\n",
        "    Jd = Derivative(J, alp);\n",
        "    return Jd;"
      ],
      "execution_count": 0,
      "outputs": []
    },
    {
      "cell_type": "code",
      "metadata": {
        "id": "fzgHVkZ5NRRh",
        "colab_type": "code",
        "colab": {}
      },
      "source": [
        "def der_2_alpha(theta, alp):\n",
        "    Jd = der_alpha(theta, alp);\n",
        "    Jdd = Derivative(Jd, alp);\n",
        "    #print(Jdd);\n",
        "    return Jdd;"
      ],
      "execution_count": 0,
      "outputs": []
    },
    {
      "cell_type": "code",
      "metadata": {
        "id": "iHJ32Xh6NRKj",
        "colab_type": "code",
        "outputId": "3c2eed2d-7db1-4419-92d6-059d226376c7",
        "colab": {
          "base_uri": "https://localhost:8080/",
          "height": 347
        }
      },
      "source": [
        "from sympy import Symbol, Derivative\n",
        "theta_0 = np.matrix([3000, 3000]).T;\n",
        "theta = theta_0;\n",
        "alpha = 1000;\n",
        "alp = Symbol('alp');\n",
        "error = 1;\n",
        "errorvec = np.array([ ]);\n",
        "while abs(error) > 0.01:\n",
        "    old_theta = theta;\n",
        "    theta = theta - alpha * cost_derivative(theta);\n",
        "    error = sum(old_theta - theta);\n",
        "    errorvec = np.append(errorvec, abs(error));\n",
        "    alpha = alpha - (der_alpha(theta_0, alp).doit()/np.array(der_2_alpha(theta_0, alp).doit())).subs({alp:alpha});\n",
        "\n",
        "print(errorvec);\n",
        "print(theta);\n",
        "plt.plot(errorvec);\n",
        "plt.xlabel('Iterations');\n",
        "plt.ylabel('Error');\n",
        "plt.title('GD Error');"
      ],
      "execution_count": 0,
      "outputs": [
        {
          "output_type": "stream",
          "text": [
            "[12000000.0 11994000.0000000 0]\n",
            "[[0]\n",
            " [0]]\n"
          ],
          "name": "stdout"
        },
        {
          "output_type": "display_data",
          "data": {
            "image/png": "[encoded data removed]",
            "text/plain": [
              "<Figure size 432x288 with 1 Axes>"
            ]
          },
          "metadata": {
            "tags": []
          }
        }
      ]
    },
    {
      "cell_type": "code",
      "metadata": {
        "id": "am7bYk-hL5bo",
        "colab_type": "code",
        "outputId": "3f5dc5f3-7659-445e-ac9b-24752616f4b6",
        "colab": {
          "base_uri": "https://localhost:8080/",
          "height": 121
        }
      },
      "source": [
        "#Question 3e\n",
        "print(X.shape)\n",
        "print(y.shape)\n",
        "print(theta.shape)\n",
        "print((X[:,1]).shape)\n",
        "z = X[:,1]\n",
        "z=z.reshape((94,1))\n",
        "print(z.shape)\n",
        "print(((X * theta - y).transpose() * np.array(z)).shape)\n",
        "      \n",
        "def cost_derivative(theta):\n",
        "    t_d = np.matrix(np.zeros(theta.shape));\n",
        "    t_d[1] = sum(((X * theta - y).transpose() * np.array(z)));\n",
        "    t_d[0] = sum(X * theta - y);\n",
        "    return (t_d);"
      ],
      "execution_count": 0,
      "outputs": [
        {
          "output_type": "stream",
          "text": [
            "(94, 2)\n",
            "(94, 1)\n",
            "(2, 1)\n",
            "(94,)\n",
            "(94, 1)\n",
            "(1, 1)\n"
          ],
          "name": "stdout"
        }
      ]
    },
    {
      "cell_type": "code",
      "metadata": {
        "id": "7XkwmoW6NDuE",
        "colab_type": "code",
        "colab": {}
      },
      "source": [
        "def der_alpha(theta, alp):\n",
        "    p = theta - alp * cost_derivative(theta);\n",
        "    #print(p);\n",
        "    J = np.sum(np.square((X * p - y)) );\n",
        "    Jd = Derivative(J, alp);\n",
        "    #print(Jd);\n",
        "    return Jd;"
      ],
      "execution_count": 0,
      "outputs": []
    },
    {
      "cell_type": "code",
      "metadata": {
        "id": "fZItb-JaNDph",
        "colab_type": "code",
        "colab": {}
      },
      "source": [
        "def der_2_alpha(theta, alp):\n",
        "    Jd = der_alpha(theta, alp);\n",
        "    Jdd = Derivative(Jd, alp);\n",
        "    return Jdd;"
      ],
      "execution_count": 0,
      "outputs": []
    },
    {
      "cell_type": "code",
      "metadata": {
        "id": "4qWJ2B0WNDnR",
        "colab_type": "code",
        "outputId": "5c57941e-309a-4538-fc49-a11fb2d09a5f",
        "colab": {
          "base_uri": "https://localhost:8080/",
          "height": 347
        }
      },
      "source": [
        "from sympy import Symbol, Derivative\n",
        "theta_0 = np.matrix([3000, 3000]).T;\n",
        "theta = theta_0;\n",
        "alpha = 1000;\n",
        "alp = Symbol('alp');\n",
        "error = 1;\n",
        "errorvec = np.array([ ]);\n",
        "while abs(error) > 0.01:\n",
        "    old_theta = theta;\n",
        "    theta = theta - alpha * cost_derivative(theta);\n",
        "    error = sum(old_theta - theta);\n",
        "    errorvec = np.append(errorvec, abs(error));\n",
        "    alpha = alpha - (der_alpha(theta_0, alp).doit()/der_2_alpha(theta_0, alp).doit()).subs({alp:alpha});\n",
        "print(errorvec);\n",
        "print(theta);\n",
        "plt.plot(errorvec);\n",
        "plt.xlabel('Iterations');\n",
        "plt.ylabel('Error');\n",
        "plt.title('GD Error');"
      ],
      "execution_count": 0,
      "outputs": [
        {
          "output_type": "stream",
          "text": [
            "[562415997.5720417 562410014.422748 0.000383618268374519]\n",
            "[[23.7180851063830]\n",
            " [-6.86699544725538]]\n"
          ],
          "name": "stdout"
        },
        {
          "output_type": "display_data",
          "data": {
            "image/png": "[encoded data removed]",
            "text/plain": [
              "<Figure size 432x288 with 1 Axes>"
            ]
          },
          "metadata": {
            "tags": []
          }
        }
      ]
    },
    {
      "cell_type": "code",
      "metadata": {
        "id": "YwC58I3cNDkC",
        "colab_type": "code",
        "colab": {}
      },
      "source": [
        ""
      ],
      "execution_count": 0,
      "outputs": []
    },
    {
      "cell_type": "code",
      "metadata": {
        "id": "WXuwHLtaNDib",
        "colab_type": "code",
        "colab": {}
      },
      "source": [
        ""
      ],
      "execution_count": 0,
      "outputs": []
    },
    {
      "cell_type": "code",
      "metadata": {
        "id": "1DE89KNwNDfR",
        "colab_type": "code",
        "colab": {}
      },
      "source": [
        ""
      ],
      "execution_count": 0,
      "outputs": []
    },
    {
      "cell_type": "code",
      "metadata": {
        "id": "Kfdoxm3bNDcT",
        "colab_type": "code",
        "colab": {}
      },
      "source": [
        ""
      ],
      "execution_count": 0,
      "outputs": []
    },
    {
      "cell_type": "code",
      "metadata": {
        "id": "DzuBt7cBNDaV",
        "colab_type": "code",
        "colab": {}
      },
      "source": [
        ""
      ],
      "execution_count": 0,
      "outputs": []
    },
    {
      "cell_type": "code",
      "metadata": {
        "id": "zJ9vp-VfNDXz",
        "colab_type": "code",
        "colab": {}
      },
      "source": [
        ""
      ],
      "execution_count": 0,
      "outputs": []
    },
    {
      "cell_type": "code",
      "metadata": {
        "id": "Srtzeqo2NDSj",
        "colab_type": "code",
        "colab": {}
      },
      "source": [
        ""
      ],
      "execution_count": 0,
      "outputs": []
    }
  ]
}